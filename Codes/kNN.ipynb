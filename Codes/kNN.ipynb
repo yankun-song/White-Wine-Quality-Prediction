{
 "cells": [
  {
   "cell_type": "code",
   "execution_count": 1,
   "metadata": {
    "colab": {
     "base_uri": "https://localhost:8080/",
     "height": 72,
     "resources": {
      "http://localhost:8080/nbextensions/google.colab/files.js": {
       "data": "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",
       "headers": [
        [
         "content-type",
         "application/javascript"
        ]
       ],
       "ok": true,
       "status": 200,
       "status_text": ""
      }
     }
    },
    "executionInfo": {
     "elapsed": 16656,
     "status": "ok",
     "timestamp": 1606785417962,
     "user": {
      "displayName": "Wanshan Mao",
      "photoUrl": "",
      "userId": "15857185804242020863"
     },
     "user_tz": 300
    },
    "id": "mZiszj4A3wUy",
    "outputId": "b7517f22-5e40-418b-a4bd-f91069d1b13b"
   },
   "outputs": [],
   "source": [
    "# from google.colab import files\n",
    "# uploaded = files.upload()"
   ]
  },
  {
   "cell_type": "code",
   "execution_count": 2,
   "metadata": {
    "colab": {
     "base_uri": "https://localhost:8080/",
     "height": 292
    },
    "executionInfo": {
     "elapsed": 400,
     "status": "ok",
     "timestamp": 1606785594077,
     "user": {
      "displayName": "Wanshan Mao",
      "photoUrl": "",
      "userId": "15857185804242020863"
     },
     "user_tz": 300
    },
    "id": "-fa-vzeN38_O",
    "outputId": "84df7ed4-c613-42e0-86e5-c261db200266"
   },
   "outputs": [
    {
     "name": "stdout",
     "output_type": "stream",
     "text": [
      "['fixed_acidity' 'volatile_acidity' 'citric_acid' 'residual_sugar'\n",
      " 'chlorides' 'free_sulfur_dioxide' 'total_sulfur_dioxide' 'density' 'pH'\n",
      " 'sulphates' 'alcohol' 'good_quality_1']\n",
      "(4898, 12)\n"
     ]
    },
    {
     "data": {
      "text/html": [
       "<div>\n",
       "<style scoped>\n",
       "    .dataframe tbody tr th:only-of-type {\n",
       "        vertical-align: middle;\n",
       "    }\n",
       "\n",
       "    .dataframe tbody tr th {\n",
       "        vertical-align: top;\n",
       "    }\n",
       "\n",
       "    .dataframe thead th {\n",
       "        text-align: right;\n",
       "    }\n",
       "</style>\n",
       "<table border=\"1\" class=\"dataframe\">\n",
       "  <thead>\n",
       "    <tr style=\"text-align: right;\">\n",
       "      <th></th>\n",
       "      <th>fixed_acidity</th>\n",
       "      <th>volatile_acidity</th>\n",
       "      <th>citric_acid</th>\n",
       "      <th>residual_sugar</th>\n",
       "      <th>chlorides</th>\n",
       "      <th>free_sulfur_dioxide</th>\n",
       "      <th>total_sulfur_dioxide</th>\n",
       "      <th>density</th>\n",
       "      <th>pH</th>\n",
       "      <th>sulphates</th>\n",
       "      <th>alcohol</th>\n",
       "      <th>good_quality_1</th>\n",
       "    </tr>\n",
       "  </thead>\n",
       "  <tbody>\n",
       "    <tr>\n",
       "      <th>0</th>\n",
       "      <td>0.172079</td>\n",
       "      <td>-0.081762</td>\n",
       "      <td>0.213258</td>\n",
       "      <td>2.821061</td>\n",
       "      <td>-0.035351</td>\n",
       "      <td>0.569873</td>\n",
       "      <td>0.744489</td>\n",
       "      <td>2.331274</td>\n",
       "      <td>-1.246794</td>\n",
       "      <td>-0.349149</td>\n",
       "      <td>-1.393010</td>\n",
       "      <td>0</td>\n",
       "    </tr>\n",
       "    <tr>\n",
       "      <th>1</th>\n",
       "      <td>-0.657434</td>\n",
       "      <td>0.215874</td>\n",
       "      <td>0.047996</td>\n",
       "      <td>-0.944669</td>\n",
       "      <td>0.147732</td>\n",
       "      <td>-1.252891</td>\n",
       "      <td>-0.149669</td>\n",
       "      <td>-0.009153</td>\n",
       "      <td>0.739953</td>\n",
       "      <td>0.001342</td>\n",
       "      <td>-0.824192</td>\n",
       "      <td>0</td>\n",
       "    </tr>\n",
       "    <tr>\n",
       "      <th>2</th>\n",
       "      <td>1.475600</td>\n",
       "      <td>0.017450</td>\n",
       "      <td>0.543783</td>\n",
       "      <td>0.100272</td>\n",
       "      <td>0.193503</td>\n",
       "      <td>-0.312109</td>\n",
       "      <td>-0.973236</td>\n",
       "      <td>0.358628</td>\n",
       "      <td>0.475053</td>\n",
       "      <td>-0.436771</td>\n",
       "      <td>-0.336633</td>\n",
       "      <td>0</td>\n",
       "    </tr>\n",
       "    <tr>\n",
       "      <th>3</th>\n",
       "      <td>0.409083</td>\n",
       "      <td>-0.478608</td>\n",
       "      <td>-0.117266</td>\n",
       "      <td>0.415726</td>\n",
       "      <td>0.559670</td>\n",
       "      <td>0.687471</td>\n",
       "      <td>1.120977</td>\n",
       "      <td>0.525802</td>\n",
       "      <td>0.011479</td>\n",
       "      <td>-0.787262</td>\n",
       "      <td>-0.499152</td>\n",
       "      <td>0</td>\n",
       "    </tr>\n",
       "    <tr>\n",
       "      <th>4</th>\n",
       "      <td>0.409083</td>\n",
       "      <td>-0.478608</td>\n",
       "      <td>-0.117266</td>\n",
       "      <td>0.415726</td>\n",
       "      <td>0.559670</td>\n",
       "      <td>0.687471</td>\n",
       "      <td>1.120977</td>\n",
       "      <td>0.525802</td>\n",
       "      <td>0.011479</td>\n",
       "      <td>-0.787262</td>\n",
       "      <td>-0.499152</td>\n",
       "      <td>0</td>\n",
       "    </tr>\n",
       "  </tbody>\n",
       "</table>\n",
       "</div>"
      ],
      "text/plain": [
       "   fixed_acidity  volatile_acidity  citric_acid  residual_sugar  chlorides  \\\n",
       "0       0.172079         -0.081762     0.213258        2.821061  -0.035351   \n",
       "1      -0.657434          0.215874     0.047996       -0.944669   0.147732   \n",
       "2       1.475600          0.017450     0.543783        0.100272   0.193503   \n",
       "3       0.409083         -0.478608    -0.117266        0.415726   0.559670   \n",
       "4       0.409083         -0.478608    -0.117266        0.415726   0.559670   \n",
       "\n",
       "   free_sulfur_dioxide  total_sulfur_dioxide   density        pH  sulphates  \\\n",
       "0             0.569873              0.744489  2.331274 -1.246794  -0.349149   \n",
       "1            -1.252891             -0.149669 -0.009153  0.739953   0.001342   \n",
       "2            -0.312109             -0.973236  0.358628  0.475053  -0.436771   \n",
       "3             0.687471              1.120977  0.525802  0.011479  -0.787262   \n",
       "4             0.687471              1.120977  0.525802  0.011479  -0.787262   \n",
       "\n",
       "    alcohol  good_quality_1  \n",
       "0 -1.393010               0  \n",
       "1 -0.824192               0  \n",
       "2 -0.336633               0  \n",
       "3 -0.499152               0  \n",
       "4 -0.499152               0  "
      ]
     },
     "execution_count": 2,
     "metadata": {},
     "output_type": "execute_result"
    }
   ],
   "source": [
    "import pandas as pd\n",
    "\n",
    "df = pd.read_csv('cleaned.csv')\n",
    "df = df.drop(columns=\"quality\")\n",
    "print(df.columns.values)\n",
    "print(df.shape)\n",
    "df.head()"
   ]
  },
  {
   "cell_type": "code",
   "execution_count": 3,
   "metadata": {},
   "outputs": [
    {
     "data": {
      "text/html": [
       "<div>\n",
       "<style scoped>\n",
       "    .dataframe tbody tr th:only-of-type {\n",
       "        vertical-align: middle;\n",
       "    }\n",
       "\n",
       "    .dataframe tbody tr th {\n",
       "        vertical-align: top;\n",
       "    }\n",
       "\n",
       "    .dataframe thead th {\n",
       "        text-align: right;\n",
       "    }\n",
       "</style>\n",
       "<table border=\"1\" class=\"dataframe\">\n",
       "  <thead>\n",
       "    <tr style=\"text-align: right;\">\n",
       "      <th></th>\n",
       "      <th>fixed_acidity</th>\n",
       "      <th>volatile_acidity</th>\n",
       "      <th>citric_acid</th>\n",
       "      <th>residual_sugar</th>\n",
       "      <th>chlorides</th>\n",
       "      <th>free_sulfur_dioxide</th>\n",
       "      <th>total_sulfur_dioxide</th>\n",
       "      <th>density</th>\n",
       "      <th>pH</th>\n",
       "      <th>sulphates</th>\n",
       "      <th>alcohol</th>\n",
       "    </tr>\n",
       "    <tr>\n",
       "      <th>good_quality_1</th>\n",
       "      <th></th>\n",
       "      <th></th>\n",
       "      <th></th>\n",
       "      <th></th>\n",
       "      <th></th>\n",
       "      <th></th>\n",
       "      <th></th>\n",
       "      <th></th>\n",
       "      <th></th>\n",
       "      <th></th>\n",
       "      <th></th>\n",
       "    </tr>\n",
       "  </thead>\n",
       "  <tbody>\n",
       "    <tr>\n",
       "      <th>0</th>\n",
       "      <td>3838</td>\n",
       "      <td>3838</td>\n",
       "      <td>3838</td>\n",
       "      <td>3838</td>\n",
       "      <td>3838</td>\n",
       "      <td>3838</td>\n",
       "      <td>3838</td>\n",
       "      <td>3838</td>\n",
       "      <td>3838</td>\n",
       "      <td>3838</td>\n",
       "      <td>3838</td>\n",
       "    </tr>\n",
       "    <tr>\n",
       "      <th>1</th>\n",
       "      <td>1060</td>\n",
       "      <td>1060</td>\n",
       "      <td>1060</td>\n",
       "      <td>1060</td>\n",
       "      <td>1060</td>\n",
       "      <td>1060</td>\n",
       "      <td>1060</td>\n",
       "      <td>1060</td>\n",
       "      <td>1060</td>\n",
       "      <td>1060</td>\n",
       "      <td>1060</td>\n",
       "    </tr>\n",
       "  </tbody>\n",
       "</table>\n",
       "</div>"
      ],
      "text/plain": [
       "                fixed_acidity  volatile_acidity  citric_acid  residual_sugar  \\\n",
       "good_quality_1                                                                 \n",
       "0                        3838              3838         3838            3838   \n",
       "1                        1060              1060         1060            1060   \n",
       "\n",
       "                chlorides  free_sulfur_dioxide  total_sulfur_dioxide  density  \\\n",
       "good_quality_1                                                                  \n",
       "0                    3838                 3838                  3838     3838   \n",
       "1                    1060                 1060                  1060     1060   \n",
       "\n",
       "                  pH  sulphates  alcohol  \n",
       "good_quality_1                            \n",
       "0               3838       3838     3838  \n",
       "1               1060       1060     1060  "
      ]
     },
     "execution_count": 3,
     "metadata": {},
     "output_type": "execute_result"
    }
   ],
   "source": [
    "df.groupby(\"good_quality_1\").count()"
   ]
  },
  {
   "cell_type": "code",
   "execution_count": 4,
   "metadata": {
    "colab": {
     "base_uri": "https://localhost:8080/"
    },
    "executionInfo": {
     "elapsed": 395,
     "status": "ok",
     "timestamp": 1606786832382,
     "user": {
      "displayName": "Wanshan Mao",
      "photoUrl": "",
      "userId": "15857185804242020863"
     },
     "user_tz": 300
    },
    "id": "omPPHLzH4FkO",
    "outputId": "715df982-588b-42df-a147-c976619ae41a"
   },
   "outputs": [
    {
     "name": "stdout",
     "output_type": "stream",
     "text": [
      "      fixed_acidity  volatile_acidity  citric_acid  residual_sugar  chlorides  \\\n",
      "3749      -0.657434          0.017450    -0.365159        0.080556   0.239274   \n",
      "1344       0.527585         -0.478608     0.295890       -0.885521  -0.218435   \n",
      "58        -0.301928          1.009567    -1.521995       -0.353193  -0.081122   \n",
      "3177      -1.486947          1.307202    -0.943577        0.139704   0.193503   \n",
      "3942       0.409083         -0.478608     0.461152       -0.964385   0.330815   \n",
      "...             ...               ...          ...             ...        ...   \n",
      "2895      -0.538932          1.604838    -0.613053       -0.865805   0.376586   \n",
      "2763       1.001593          0.215874     0.047996       -1.023532   0.101961   \n",
      "905        1.831106         -0.875455     0.709045       -0.944669   0.056190   \n",
      "3980      -0.894438         -0.577820    -0.695684        1.125497  -0.493060   \n",
      "235        0.409083         -0.478608     0.378521        1.559246   0.559670   \n",
      "\n",
      "      free_sulfur_dioxide  total_sulfur_dioxide   density        pH  \\\n",
      "3749             0.275879              0.109166 -0.096083  1.600877   \n",
      "1344             0.922666              0.626837 -1.079063  0.475053   \n",
      "58              -0.606103             -1.420315 -0.310065 -0.518320   \n",
      "3177             0.511075              0.368001 -0.310065  0.739953   \n",
      "3942            -0.547305             -0.761462 -0.791525 -0.054746   \n",
      "...                   ...                   ...       ...       ...   \n",
      "2895            -0.900098              0.979794  0.392063  2.594250   \n",
      "2763            -1.840879             -0.455566 -1.065689 -0.054746   \n",
      "905             -1.546885             -0.879114 -0.009153 -0.849445   \n",
      "3980             1.099063             -0.079078  0.261668  0.143929   \n",
      "235              1.157862              1.309221  1.294799 -0.650770   \n",
      "\n",
      "      sulphates   alcohol  good_quality_1  \n",
      "3749   0.877568  0.394706               0  \n",
      "1344  -0.787262  1.369823               1  \n",
      "58    -0.962507 -0.255373               0  \n",
      "3177  -0.787262 -0.011593               0  \n",
      "3942  -0.173903  0.475966               0  \n",
      "...         ...       ...             ...  \n",
      "2895   0.702322 -0.417892               0  \n",
      "2763  -1.312997  1.288564               0  \n",
      "905    1.403303  0.475966               0  \n",
      "3980  -0.787262  0.150926               0  \n",
      "235   -0.436771 -1.230491               0  \n",
      "\n",
      "[3918 rows x 12 columns]\n"
     ]
    }
   ],
   "source": [
    "from sklearn.model_selection import train_test_split\n",
    "\n",
    "df4partition = df.copy()\n",
    "testpart_size = 0.2\n",
    "\n",
    "df_nontestData, df_testData = train_test_split(df4partition, test_size = testpart_size, random_state = 1)\n",
    "print(df_nontestData)"
   ]
  },
  {
   "cell_type": "code",
   "execution_count": 5,
   "metadata": {
    "colab": {
     "base_uri": "https://localhost:8080/"
    },
    "executionInfo": {
     "elapsed": 424,
     "status": "ok",
     "timestamp": 1606786837439,
     "user": {
      "displayName": "Wanshan Mao",
      "photoUrl": "",
      "userId": "15857185804242020863"
     },
     "user_tz": 300
    },
    "id": "Q5kMt0HM5F8y",
    "outputId": "e9a20e3e-1be9-4b62-ce6a-6efd50969330"
   },
   "outputs": [
    {
     "name": "stdout",
     "output_type": "stream",
     "text": [
      "0.8371159956837705\n"
     ]
    }
   ],
   "source": [
    "from sklearn.neighbors import KNeighborsClassifier\n",
    "\n",
    "DV = 'good_quality_1'\n",
    "y = df_nontestData[DV]\n",
    "X = df_nontestData.drop(columns = [DV])\n",
    "\n",
    "k = 5\n",
    "\n",
    "clf = KNeighborsClassifier(metric='euclidean', n_neighbors=k).fit(X,y)\n",
    "\n",
    "X_test = df_testData.drop(columns=DV)\n",
    "y_test = df_testData[DV]\n",
    "\n",
    "from sklearn import metrics\n",
    "\n",
    "model_object = clf\n",
    "\n",
    "print(metrics.roc_auc_score(y_test, model_object.predict_proba(X_test)[:, 1]))"
   ]
  },
  {
   "cell_type": "markdown",
   "metadata": {},
   "source": [
    "## AUC"
   ]
  },
  {
   "cell_type": "code",
   "execution_count": 6,
   "metadata": {
    "id": "ZqHdNaMy5TRY"
   },
   "outputs": [],
   "source": [
    "kfolds = 5\n",
    "max_k = 200\n",
    "\n",
    "param_grid = {'n_neighbors': list(range(1, max_k+1))}\n",
    "\n",
    "from sklearn.model_selection import GridSearchCV\n",
    "\n",
    "gridsearch = GridSearchCV(KNeighborsClassifier(metric='euclidean'), param_grid, scoring='roc_auc', cv=kfolds, n_jobs=-1)\n",
    "gridsearch.fit(X,y)\n",
    "clf_bestkNN = gridsearch.best_estimator_"
   ]
  },
  {
   "cell_type": "code",
   "execution_count": 7,
   "metadata": {
    "colab": {
     "base_uri": "https://localhost:8080/"
    },
    "executionInfo": {
     "elapsed": 895,
     "status": "ok",
     "timestamp": 1606785861954,
     "user": {
      "displayName": "Wanshan Mao",
      "photoUrl": "",
      "userId": "15857185804242020863"
     },
     "user_tz": 300
    },
    "id": "SvhcvjGt5aJe",
    "outputId": "6dd0d8ad-67aa-452f-f27f-a999a640c15a"
   },
   "outputs": [
    {
     "name": "stdout",
     "output_type": "stream",
     "text": [
      "49\n",
      "0.837974472245572\n"
     ]
    }
   ],
   "source": [
    "print(clf_bestkNN.n_neighbors)\n",
    "\n",
    "y_test_actual = df_testData[DV]\n",
    "\n",
    "X_test = df_testData.drop(columns=[DV])\n",
    "\n",
    "from sklearn.metrics import roc_auc_score\n",
    "print(roc_auc_score(y_test_actual, clf_bestkNN.predict_proba(X_test)[:,1]))"
   ]
  },
  {
   "cell_type": "code",
   "execution_count": 8,
   "metadata": {},
   "outputs": [
    {
     "data": {
      "text/plain": [
       "array([0.06122449, 0.        , 0.28571429, 0.        , 0.65306122,\n",
       "       0.        , 0.        , 0.04081633, 0.14285714, 0.04081633,\n",
       "       0.79591837, 0.10204082, 0.48979592, 0.        , 0.36734694,\n",
       "       0.18367347, 0.36734694, 0.10204082, 0.04081633, 0.10204082,\n",
       "       0.28571429, 0.18367347, 0.32653061, 0.34693878, 0.30612245,\n",
       "       0.20408163, 0.34693878, 0.        , 0.3877551 , 0.44897959,\n",
       "       0.04081633, 0.44897959, 0.30612245, 0.08163265, 0.55102041,\n",
       "       0.08163265, 0.        , 0.10204082, 0.02040816, 0.3877551 ,\n",
       "       0.3877551 , 0.18367347, 0.30612245, 0.06122449, 0.14285714,\n",
       "       0.        , 0.34693878, 0.02040816, 0.14285714, 0.34693878,\n",
       "       0.42857143, 0.24489796, 0.14285714, 0.18367347, 0.3877551 ,\n",
       "       0.63265306, 0.30612245, 0.34693878, 0.2244898 , 0.20408163,\n",
       "       0.42857143, 0.12244898, 0.30612245, 0.10204082, 0.32653061,\n",
       "       0.73469388, 0.12244898, 0.30612245, 0.42857143, 0.10204082,\n",
       "       0.12244898, 0.04081633, 0.32653061, 0.        , 0.12244898,\n",
       "       0.42857143, 0.20408163, 0.        , 0.02040816, 0.        ,\n",
       "       0.28571429, 0.06122449, 0.12244898, 0.75510204, 0.08163265,\n",
       "       0.12244898, 0.14285714, 0.55102041, 0.16326531, 0.28571429,\n",
       "       0.        , 0.02040816, 0.02040816, 0.55102041, 0.18367347,\n",
       "       0.6122449 , 0.65306122, 0.20408163, 0.18367347, 0.02040816,\n",
       "       0.26530612, 0.59183673, 0.        , 0.34693878, 0.36734694,\n",
       "       0.20408163, 0.81632653, 0.04081633, 0.24489796, 0.2244898 ,\n",
       "       0.12244898, 0.14285714, 0.02040816, 0.10204082, 0.69387755,\n",
       "       0.10204082, 0.02040816, 0.6122449 , 0.42857143, 0.24489796,\n",
       "       0.04081633, 0.20408163, 0.30612245, 0.02040816, 0.10204082,\n",
       "       0.        , 0.44897959, 0.10204082, 0.04081633, 0.        ,\n",
       "       0.48979592, 0.40816327, 0.10204082, 0.32653061, 0.12244898,\n",
       "       0.        , 0.06122449, 0.10204082, 0.28571429, 0.24489796,\n",
       "       0.04081633, 0.20408163, 0.02040816, 0.46938776, 0.        ,\n",
       "       0.3877551 , 0.63265306, 0.28571429, 0.57142857, 0.02040816,\n",
       "       0.04081633, 0.16326531, 0.3877551 , 0.        , 0.        ,\n",
       "       0.24489796, 0.3877551 , 0.20408163, 0.        , 0.04081633,\n",
       "       0.        , 0.34693878, 0.08163265, 0.30612245, 0.24489796,\n",
       "       0.06122449, 0.46938776, 0.20408163, 0.55102041, 0.42857143,\n",
       "       0.12244898, 0.44897959, 0.34693878, 0.24489796, 0.36734694,\n",
       "       0.04081633, 0.28571429, 0.        , 0.10204082, 0.10204082,\n",
       "       0.46938776, 0.48979592, 0.24489796, 0.32653061, 0.36734694,\n",
       "       0.16326531, 0.55102041, 0.20408163, 0.42857143, 0.16326531,\n",
       "       0.36734694, 0.28571429, 0.20408163, 0.42857143, 0.42857143,\n",
       "       0.65306122, 0.04081633, 0.        , 0.10204082, 0.14285714,\n",
       "       0.32653061, 0.04081633, 0.3877551 , 0.04081633, 0.2244898 ,\n",
       "       0.16326531, 0.51020408, 0.26530612, 0.34693878, 0.08163265,\n",
       "       0.36734694, 0.3877551 , 0.        , 0.18367347, 0.        ,\n",
       "       0.06122449, 0.08163265, 0.20408163, 0.20408163, 0.18367347,\n",
       "       0.40816327, 0.51020408, 0.06122449, 0.44897959, 0.10204082,\n",
       "       0.59183673, 0.32653061, 0.18367347, 0.24489796, 0.02040816,\n",
       "       0.12244898, 0.2244898 , 0.14285714, 0.14285714, 0.26530612,\n",
       "       0.        , 0.40816327, 0.26530612, 0.30612245, 0.04081633,\n",
       "       0.02040816, 0.16326531, 0.30612245, 0.10204082, 0.48979592,\n",
       "       0.67346939, 0.10204082, 0.        , 0.20408163, 0.06122449,\n",
       "       0.2244898 , 0.42857143, 0.12244898, 0.6122449 , 0.        ,\n",
       "       0.        , 0.65306122, 0.04081633, 0.04081633, 0.02040816,\n",
       "       0.        , 0.18367347, 0.30612245, 0.63265306, 0.10204082,\n",
       "       0.24489796, 0.55102041, 0.18367347, 0.48979592, 0.04081633,\n",
       "       0.34693878, 0.24489796, 0.48979592, 0.46938776, 0.2244898 ,\n",
       "       0.10204082, 0.26530612, 0.10204082, 0.20408163, 0.36734694,\n",
       "       0.3877551 , 0.        , 0.08163265, 0.28571429, 0.        ,\n",
       "       0.16326531, 0.28571429, 0.        , 0.24489796, 0.08163265,\n",
       "       0.20408163, 0.51020408, 0.06122449, 0.26530612, 0.36734694,\n",
       "       0.02040816, 0.10204082, 0.67346939, 0.02040816, 0.10204082,\n",
       "       0.20408163, 0.2244898 , 0.30612245, 0.02040816, 0.20408163,\n",
       "       0.36734694, 0.04081633, 0.2244898 , 0.06122449, 0.18367347,\n",
       "       0.        , 0.48979592, 0.02040816, 0.08163265, 0.26530612,\n",
       "       0.14285714, 0.        , 0.08163265, 0.34693878, 0.40816327,\n",
       "       0.2244898 , 0.06122449, 0.48979592, 0.59183673, 0.14285714,\n",
       "       0.02040816, 0.44897959, 0.67346939, 0.59183673, 0.46938776,\n",
       "       0.59183673, 0.67346939, 0.02040816, 0.18367347, 0.34693878,\n",
       "       0.04081633, 0.        , 0.28571429, 0.        , 0.75510204,\n",
       "       0.02040816, 0.12244898, 0.2244898 , 0.24489796, 0.40816327,\n",
       "       0.2244898 , 0.        , 0.2244898 , 0.26530612, 0.16326531,\n",
       "       0.        , 0.34693878, 0.12244898, 0.20408163, 0.73469388,\n",
       "       0.20408163, 0.        , 0.06122449, 0.3877551 , 0.42857143,\n",
       "       0.10204082, 0.63265306, 0.32653061, 0.        , 0.3877551 ,\n",
       "       0.        , 0.10204082, 0.14285714, 0.02040816, 0.06122449,\n",
       "       0.2244898 , 0.48979592, 0.40816327, 0.02040816, 0.04081633,\n",
       "       0.08163265, 0.40816327, 0.04081633, 0.18367347, 0.36734694,\n",
       "       0.30612245, 0.        , 0.26530612, 0.10204082, 0.42857143,\n",
       "       0.67346939, 0.18367347, 0.18367347, 0.24489796, 0.14285714,\n",
       "       0.14285714, 0.04081633, 0.2244898 , 0.53061224, 0.51020408,\n",
       "       0.32653061, 0.20408163, 0.02040816, 0.32653061, 0.04081633,\n",
       "       0.02040816, 0.12244898, 0.32653061, 0.04081633, 0.18367347,\n",
       "       0.06122449, 0.67346939, 0.16326531, 0.55102041, 0.24489796,\n",
       "       0.28571429, 0.40816327, 0.14285714, 0.44897959, 0.3877551 ,\n",
       "       0.12244898, 0.        , 0.14285714, 0.        , 0.53061224,\n",
       "       0.3877551 , 0.02040816, 0.2244898 , 0.32653061, 0.12244898,\n",
       "       0.24489796, 0.2244898 , 0.26530612, 0.12244898, 0.2244898 ,\n",
       "       0.08163265, 0.        , 0.10204082, 0.20408163, 0.04081633,\n",
       "       0.        , 0.        , 0.14285714, 0.24489796, 0.24489796,\n",
       "       0.20408163, 0.34693878, 0.34693878, 0.2244898 , 0.        ,\n",
       "       0.63265306, 0.3877551 , 0.14285714, 0.12244898, 0.        ,\n",
       "       0.30612245, 0.14285714, 0.06122449, 0.3877551 , 0.        ,\n",
       "       0.18367347, 0.        , 0.12244898, 0.40816327, 0.24489796,\n",
       "       0.16326531, 0.20408163, 0.28571429, 0.16326531, 0.44897959,\n",
       "       0.        , 0.        , 0.02040816, 0.02040816, 0.2244898 ,\n",
       "       0.16326531, 0.18367347, 0.        , 0.48979592, 0.32653061,\n",
       "       0.26530612, 0.02040816, 0.08163265, 0.14285714, 0.20408163,\n",
       "       0.42857143, 0.55102041, 0.2244898 , 0.2244898 , 0.14285714,\n",
       "       0.26530612, 0.        , 0.44897959, 0.        , 0.18367347,\n",
       "       0.57142857, 0.40816327, 0.20408163, 0.3877551 , 0.04081633,\n",
       "       0.53061224, 0.28571429, 0.42857143, 0.46938776, 0.18367347,\n",
       "       0.48979592, 0.02040816, 0.        , 0.53061224, 0.53061224,\n",
       "       0.26530612, 0.28571429, 0.2244898 , 0.30612245, 0.        ,\n",
       "       0.3877551 , 0.16326531, 0.40816327, 0.2244898 , 0.36734694,\n",
       "       0.46938776, 0.20408163, 0.3877551 , 0.30612245, 0.32653061,\n",
       "       0.63265306, 0.12244898, 0.02040816, 0.10204082, 0.        ,\n",
       "       0.28571429, 0.30612245, 0.12244898, 0.14285714, 0.        ,\n",
       "       0.26530612, 0.12244898, 0.3877551 , 0.65306122, 0.06122449,\n",
       "       0.30612245, 0.71428571, 0.18367347, 0.06122449, 0.        ,\n",
       "       0.24489796, 0.40816327, 0.28571429, 0.10204082, 0.2244898 ,\n",
       "       0.10204082, 0.10204082, 0.30612245, 0.53061224, 0.40816327,\n",
       "       0.        , 0.48979592, 0.18367347, 0.28571429, 0.65306122,\n",
       "       0.16326531, 0.06122449, 0.02040816, 0.44897959, 0.02040816,\n",
       "       0.06122449, 0.24489796, 0.6122449 , 0.02040816, 0.12244898,\n",
       "       0.30612245, 0.16326531, 0.02040816, 0.28571429, 0.28571429,\n",
       "       0.04081633, 0.42857143, 0.51020408, 0.        , 0.34693878,\n",
       "       0.20408163, 0.04081633, 0.        , 0.04081633, 0.02040816,\n",
       "       0.        , 0.06122449, 0.6122449 , 0.24489796, 0.51020408,\n",
       "       0.30612245, 0.08163265, 0.12244898, 0.67346939, 0.48979592,\n",
       "       0.65306122, 0.2244898 , 0.04081633, 0.36734694, 0.        ,\n",
       "       0.36734694, 0.        , 0.26530612, 0.        , 0.04081633,\n",
       "       0.08163265, 0.        , 0.08163265, 0.40816327, 0.32653061,\n",
       "       0.24489796, 0.04081633, 0.10204082, 0.67346939, 0.        ,\n",
       "       0.10204082, 0.        , 0.24489796, 0.26530612, 0.71428571,\n",
       "       0.44897959, 0.24489796, 0.6122449 , 0.40816327, 0.65306122,\n",
       "       0.10204082, 0.06122449, 0.18367347, 0.        , 0.12244898,\n",
       "       0.16326531, 0.        , 0.06122449, 0.04081633, 0.24489796,\n",
       "       0.51020408, 0.32653061, 0.        , 0.34693878, 0.30612245,\n",
       "       0.06122449, 0.        , 0.        , 0.20408163, 0.30612245,\n",
       "       0.67346939, 0.        , 0.08163265, 0.2244898 , 0.20408163,\n",
       "       0.16326531, 0.24489796, 0.04081633, 0.63265306, 0.        ,\n",
       "       0.06122449, 0.32653061, 0.12244898, 0.        , 0.02040816,\n",
       "       0.65306122, 0.12244898, 0.2244898 , 0.        , 0.26530612,\n",
       "       0.06122449, 0.02040816, 0.06122449, 0.32653061, 0.34693878,\n",
       "       0.06122449, 0.        , 0.        , 0.65306122, 0.28571429,\n",
       "       0.12244898, 0.69387755, 0.75510204, 0.08163265, 0.16326531,\n",
       "       0.14285714, 0.08163265, 0.06122449, 0.18367347, 0.02040816,\n",
       "       0.12244898, 0.02040816, 0.        , 0.32653061, 0.32653061,\n",
       "       0.48979592, 0.02040816, 0.        , 0.06122449, 0.26530612,\n",
       "       0.02040816, 0.51020408, 0.67346939, 0.04081633, 0.        ,\n",
       "       0.63265306, 0.18367347, 0.04081633, 0.        , 0.04081633,\n",
       "       0.14285714, 0.46938776, 0.        , 0.20408163, 0.        ,\n",
       "       0.48979592, 0.2244898 , 0.02040816, 0.04081633, 0.20408163,\n",
       "       0.        , 0.02040816, 0.53061224, 0.46938776, 0.14285714,\n",
       "       0.46938776, 0.04081633, 0.2244898 , 0.14285714, 0.10204082,\n",
       "       0.67346939, 0.75510204, 0.        , 0.        , 0.        ,\n",
       "       0.06122449, 0.28571429, 0.48979592, 0.        , 0.        ,\n",
       "       0.34693878, 0.16326531, 0.        , 0.04081633, 0.48979592,\n",
       "       0.18367347, 0.04081633, 0.        , 0.24489796, 0.04081633,\n",
       "       0.06122449, 0.44897959, 0.16326531, 0.06122449, 0.34693878,\n",
       "       0.34693878, 0.59183673, 0.28571429, 0.63265306, 0.30612245,\n",
       "       0.26530612, 0.16326531, 0.2244898 , 0.10204082, 0.02040816,\n",
       "       0.57142857, 0.08163265, 0.48979592, 0.10204082, 0.20408163,\n",
       "       0.32653061, 0.28571429, 0.08163265, 0.65306122, 0.18367347,\n",
       "       0.02040816, 0.04081633, 0.26530612, 0.10204082, 0.24489796,\n",
       "       0.08163265, 0.04081633, 0.16326531, 0.32653061, 0.18367347,\n",
       "       0.08163265, 0.        , 0.14285714, 0.10204082, 0.24489796,\n",
       "       0.26530612, 0.3877551 , 0.24489796, 0.06122449, 0.12244898,\n",
       "       0.36734694, 0.12244898, 0.36734694, 0.16326531, 0.04081633,\n",
       "       0.16326531, 0.14285714, 0.12244898, 0.57142857, 0.04081633,\n",
       "       0.2244898 , 0.04081633, 0.06122449, 0.14285714, 0.32653061,\n",
       "       0.        , 0.02040816, 0.51020408, 0.        , 0.04081633,\n",
       "       0.2244898 , 0.7755102 , 0.12244898, 0.20408163, 0.20408163,\n",
       "       0.        , 0.12244898, 0.20408163, 0.65306122, 0.24489796,\n",
       "       0.46938776, 0.02040816, 0.2244898 , 0.14285714, 0.18367347,\n",
       "       0.48979592, 0.02040816, 0.44897959, 0.20408163, 0.20408163,\n",
       "       0.51020408, 0.46938776, 0.2244898 , 0.02040816, 0.48979592,\n",
       "       0.04081633, 0.42857143, 0.        , 0.06122449, 0.06122449,\n",
       "       0.65306122, 0.02040816, 0.        , 0.04081633, 0.85714286,\n",
       "       0.10204082, 0.02040816, 0.51020408, 0.10204082, 0.08163265,\n",
       "       0.51020408, 0.16326531, 0.28571429, 0.20408163, 0.10204082,\n",
       "       0.04081633, 0.53061224, 0.        , 0.        , 0.24489796,\n",
       "       0.48979592, 0.36734694, 0.16326531, 0.30612245, 0.16326531,\n",
       "       0.02040816, 0.40816327, 0.02040816, 0.        , 0.12244898,\n",
       "       0.53061224, 0.02040816, 0.46938776, 0.16326531, 0.10204082,\n",
       "       0.04081633, 0.12244898, 0.32653061, 0.08163265, 0.20408163,\n",
       "       0.34693878, 0.10204082, 0.04081633, 0.67346939, 0.16326531,\n",
       "       0.53061224, 0.6122449 , 0.36734694, 0.34693878, 0.        ,\n",
       "       0.14285714, 0.44897959, 0.16326531, 0.65306122, 0.        ,\n",
       "       0.        , 0.        , 0.51020408, 0.32653061, 0.30612245,\n",
       "       0.14285714, 0.        , 0.28571429, 0.24489796, 0.2244898 ,\n",
       "       0.02040816, 0.06122449, 0.        , 0.04081633, 0.16326531,\n",
       "       0.04081633, 0.2244898 , 0.10204082, 0.2244898 , 0.06122449,\n",
       "       0.51020408, 0.48979592, 0.30612245, 0.18367347, 0.        ,\n",
       "       0.67346939, 0.24489796, 0.06122449, 0.46938776, 0.67346939,\n",
       "       0.06122449, 0.        , 0.20408163, 0.36734694, 0.53061224,\n",
       "       0.16326531, 0.08163265, 0.14285714, 0.24489796, 0.34693878,\n",
       "       0.04081633, 0.34693878, 0.55102041, 0.08163265, 0.26530612,\n",
       "       0.26530612, 0.08163265, 0.53061224, 0.10204082, 0.46938776,\n",
       "       0.3877551 , 0.24489796, 0.        , 0.06122449, 0.2244898 ,\n",
       "       0.51020408, 0.32653061, 0.53061224, 0.02040816, 0.02040816,\n",
       "       0.        , 0.28571429, 0.12244898, 0.12244898, 0.        ,\n",
       "       0.14285714, 0.34693878, 0.        , 0.        , 0.51020408,\n",
       "       0.2244898 , 0.20408163, 0.12244898, 0.04081633, 0.12244898,\n",
       "       0.18367347, 0.34693878, 0.30612245, 0.30612245, 0.3877551 ,\n",
       "       0.14285714, 0.48979592, 0.10204082, 0.26530612, 0.        ,\n",
       "       0.08163265, 0.        , 0.18367347, 0.20408163, 0.67346939])"
      ]
     },
     "execution_count": 8,
     "metadata": {},
     "output_type": "execute_result"
    }
   ],
   "source": [
    "clf_bestkNN.predict_proba(X_test)[:,1]"
   ]
  },
  {
   "cell_type": "markdown",
   "metadata": {},
   "source": [
    "## Accuracy"
   ]
  },
  {
   "cell_type": "code",
   "execution_count": 9,
   "metadata": {},
   "outputs": [],
   "source": [
    "kfolds = 5\n",
    "max_k = 200\n",
    "\n",
    "param_grid = {'n_neighbors': list(range(1, max_k+1))}\n",
    "\n",
    "from sklearn.model_selection import GridSearchCV\n",
    "\n",
    "gridsearch = GridSearchCV(KNeighborsClassifier(metric='euclidean'), param_grid, scoring='accuracy', cv=kfolds, n_jobs=-1)\n",
    "gridsearch.fit(X,y)\n",
    "clf_bestkNN = gridsearch.best_estimator_"
   ]
  },
  {
   "cell_type": "code",
   "execution_count": 10,
   "metadata": {},
   "outputs": [
    {
     "name": "stdout",
     "output_type": "stream",
     "text": [
      "2\n"
     ]
    },
    {
     "data": {
      "text/plain": [
       "array([[731,  28],\n",
       "       [119, 102]], dtype=int64)"
      ]
     },
     "execution_count": 10,
     "metadata": {},
     "output_type": "execute_result"
    }
   ],
   "source": [
    "print(clf_bestkNN.n_neighbors)\n",
    "\n",
    "y_test_actual = df_testData[DV]\n",
    "\n",
    "X_test = df_testData.drop(columns=[DV])\n",
    "\n",
    "# from sklearn.metrics import roc_auc_score\n",
    "# print(roc_auc_score(y_test_actual, clf_bestkNN.predict_proba(X_test)[:,1]))\n",
    "\n",
    "# Import the metrics package\n",
    "from sklearn import metrics\n",
    "\n",
    "# Display the confusion matrix over the test partition\n",
    "metrics.confusion_matrix(y_test_actual, clf_bestkNN.predict(X_test))"
   ]
  },
  {
   "cell_type": "code",
   "execution_count": 11,
   "metadata": {},
   "outputs": [
    {
     "data": {
      "text/plain": [
       "0.85"
      ]
     },
     "execution_count": 11,
     "metadata": {},
     "output_type": "execute_result"
    }
   ],
   "source": [
    "clf_bestkNN.score(X_test, y_test_actual )"
   ]
  },
  {
   "cell_type": "code",
   "execution_count": null,
   "metadata": {},
   "outputs": [],
   "source": []
  },
  {
   "cell_type": "code",
   "execution_count": null,
   "metadata": {},
   "outputs": [],
   "source": []
  }
 ],
 "metadata": {
  "colab": {
   "name": "kNN method.ipynb",
   "provenance": []
  },
  "kernelspec": {
   "display_name": "Python 3",
   "language": "python",
   "name": "python3"
  },
  "language_info": {
   "codemirror_mode": {
    "name": "ipython",
    "version": 3
   },
   "file_extension": ".py",
   "mimetype": "text/x-python",
   "name": "python",
   "nbconvert_exporter": "python",
   "pygments_lexer": "ipython3",
   "version": "3.8.3"
  }
 },
 "nbformat": 4,
 "nbformat_minor": 1
}
